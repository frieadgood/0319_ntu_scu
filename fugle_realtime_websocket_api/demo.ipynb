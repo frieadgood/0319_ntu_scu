{
 "cells": [
  {
   "cell_type": "markdown",
   "metadata": {
    "toc": true
   },
   "source": [
    "<h1>Table of Contents<span class=\"tocSkip\"></span></h1>\n",
    "<div class=\"toc\"><ul class=\"toc-item\"></ul></div>"
   ]
  },
  {
   "cell_type": "code",
   "execution_count": null,
   "metadata": {
    "ExecuteTime": {
     "end_time": "2020-03-12T04:36:42.077511Z",
     "start_time": "2020-03-12T04:36:40.999499Z"
    }
   },
   "outputs": [],
   "source": [
    "from fugle_realtime_websocket_api import *"
   ]
  },
  {
   "cell_type": "code",
   "execution_count": null,
   "metadata": {
    "ExecuteTime": {
     "end_time": "2020-03-12T04:36:46.877232Z",
     "start_time": "2020-03-12T04:36:46.873844Z"
    }
   },
   "outputs": [],
   "source": [
    "api_token = 'YOUR FUGLE API TOKEN'\n",
    "chart = chart_websocket_api(api_token=api_token)\n",
    "quote = quote_websocket_api(api_token=api_token)"
   ]
  },
  {
   "cell_type": "code",
   "execution_count": null,
   "metadata": {
    "ExecuteTime": {
     "end_time": "2020-03-12T04:37:56.278704Z",
     "start_time": "2020-03-12T04:36:53.162225Z"
    }
   },
   "outputs": [],
   "source": [
    "external_stylesheets = ['https://codepen.io/chriddyp/pen/bWLwgP.css']\n",
    "app = dash.Dash(__name__, external_stylesheets=external_stylesheets)\n",
    "\n",
    "app.layout = html.Div(children=[\n",
    "    \n",
    "    dcc.Graph(id='min_K_plot', style={'height':'80vh', 'width':'75%',\n",
    "                                      'vertical-align':'top','display':'inline-block'}),\n",
    "    \n",
    "    html.Div(id='order_book', style={'width':'25%',\n",
    "                                     'display':'inline-block', 'vertical-align':'top'}),\n",
    "    \n",
    "    dcc.Interval(id='interval1', interval=5*1000),\n",
    "    dcc.Interval(id='interval2', interval=1*1000)\n",
    "])\n",
    "\n",
    "#The \"inputs\" and \"outputs\" of our application interface are described declaratively through the app.callback decorator.\n",
    "@app.callback(\n",
    "    Output('min_K_plot', 'figure'),\n",
    "    [Input('interval1', 'n_intervals')])\n",
    " \n",
    "def candlestick_chart(interval1):\n",
    "    \n",
    "    df_ohlc = chart.get_chart_data(1, '2884')\n",
    "\n",
    "    return {\n",
    "        'data':[\n",
    "            chart.plot_ohlc(df_ohlc, 'red', 'green'),\n",
    "            chart.plot_MA(df_ohlc, 5, 'black', 4),\n",
    "            chart.plot_MA(df_ohlc, 10, 'brown', 2),\n",
    "            chart.plot_volume_bar(df_ohlc, 'red', 'green'),\n",
    "        ],\n",
    "        'layout':{\n",
    "            'xaxis':{'rangeslider':{'visible': False}, 'anchor':'y2'},\n",
    "            'yaxis':{'domain':[0.4, 1]},\n",
    "            'yaxis2':{'domain':[0, 0.35]},\n",
    "            'legend':{'orientation':'h'},\n",
    "            'title':'分K線圖'\n",
    "        }\n",
    "    }\n",
    "\n",
    "@app.callback(\n",
    "    Output('order_book', 'children'),\n",
    "    [Input('interval2', 'n_intervals')])\n",
    "\n",
    "def order_book_table(interval2):\n",
    "\n",
    "    df_quote, price_list, symbol = quote.update_quote_data('2884')\n",
    "        \n",
    "    return [\n",
    "        quote.plot_order_book(df_quote, price_list, symbol)\n",
    "    ]\n",
    "\n",
    "\n",
    "if __name__ == '__main__':\n",
    "    app.run_server()"
   ]
  },
  {
   "cell_type": "code",
   "execution_count": null,
   "metadata": {},
   "outputs": [],
   "source": []
  }
 ],
 "metadata": {
  "kernelspec": {
   "display_name": "Python 3",
   "language": "python",
   "name": "python3"
  },
  "language_info": {
   "codemirror_mode": {
    "name": "ipython",
    "version": 3
   },
   "file_extension": ".py",
   "mimetype": "text/x-python",
   "name": "python",
   "nbconvert_exporter": "python",
   "pygments_lexer": "ipython3",
   "version": "3.6.10"
  },
  "toc": {
   "base_numbering": 1,
   "nav_menu": {},
   "number_sections": true,
   "sideBar": true,
   "skip_h1_title": false,
   "title_cell": "Table of Contents",
   "title_sidebar": "Contents",
   "toc_cell": true,
   "toc_position": {},
   "toc_section_display": true,
   "toc_window_display": false
  }
 },
 "nbformat": 4,
 "nbformat_minor": 4
}
