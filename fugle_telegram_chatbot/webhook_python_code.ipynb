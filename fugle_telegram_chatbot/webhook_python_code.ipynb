{
 "cells": [
  {
   "cell_type": "code",
   "execution_count": null,
   "metadata": {},
   "outputs": [],
   "source": [
    "import requests\n",
    "import configparser\n",
    "import telegram\n",
    "from flask import Flask, request\n",
    "from telegram.ext import Dispatcher, MessageHandler, Filters"
   ]
  },
  {
   "cell_type": "code",
   "execution_count": null,
   "metadata": {},
   "outputs": [],
   "source": [
    "config = configparser.ConfigParser()\n",
    "config.read('config.ini')"
   ]
  },
  {
   "cell_type": "code",
   "execution_count": null,
   "metadata": {},
   "outputs": [],
   "source": [
    "config['TELEGRAM']['ACCESS_TOKEN']"
   ]
  },
  {
   "cell_type": "code",
   "execution_count": null,
   "metadata": {},
   "outputs": [],
   "source": [
    "config['TELEGRAM']['WEBHOOK_URL']"
   ]
  },
  {
   "cell_type": "code",
   "execution_count": null,
   "metadata": {},
   "outputs": [],
   "source": [
    "access_token = config['TELEGRAM']['ACCESS_TOKEN']\n",
    "webhook_url = config['TELEGRAM']['WEBHOOK_URL']"
   ]
  },
  {
   "cell_type": "markdown",
   "metadata": {},
   "source": [
    "## delete webhook url"
   ]
  },
  {
   "cell_type": "code",
   "execution_count": null,
   "metadata": {},
   "outputs": [],
   "source": [
    "requests.post('https://api.telegram.org/bot'+access_token+'/deleteWebhook').text"
   ]
  },
  {
   "cell_type": "markdown",
   "metadata": {},
   "source": [
    "## set webhook url"
   ]
  },
  {
   "cell_type": "code",
   "execution_count": null,
   "metadata": {},
   "outputs": [],
   "source": [
    "requests.post('https://api.telegram.org/bot'+access_token+'/setWebhook?url='+webhook_url+'/hook').text"
   ]
  },
  {
   "cell_type": "code",
   "execution_count": null,
   "metadata": {},
   "outputs": [],
   "source": [
    "# Initial Flask app\n",
    "app = Flask(__name__)\n",
    "\n",
    "# Initial bot by Telegram access token\n",
    "bot = telegram.Bot(token=config['TELEGRAM']['ACCESS_TOKEN'])\n",
    "\n",
    "@app.route('/hook', methods=['POST'])\n",
    "def webhook_handler():\n",
    "    if request.method == \"POST\":\n",
    "        update = telegram.Update.de_json(request.get_json(force=True), bot)\n",
    "\n",
    "        # Update dispatcher process that handler to process this message\n",
    "        dispatcher.process_update(update)\n",
    "    return 'ok'\n",
    "\n",
    "## reply message\n",
    "def reply_handler(bot, update):\n",
    "    text = update.message.text\n",
    "    user_id = update.message.from_user.name\n",
    "    update.message.reply_text(text)\n",
    "    \n",
    "# This class dispatches all kinds of updates to its registered handlers.\n",
    "dispatcher = Dispatcher(bot, None)\n",
    "dispatcher.add_handler(MessageHandler(Filters.text, reply_handler))\n",
    "\n",
    "if __name__ == '__main__':\n",
    "    app.run()"
   ]
  },
  {
   "cell_type": "code",
   "execution_count": null,
   "metadata": {},
   "outputs": [],
   "source": []
  }
 ],
 "metadata": {
  "kernelspec": {
   "display_name": "Python 3",
   "language": "python",
   "name": "python3"
  },
  "language_info": {
   "codemirror_mode": {
    "name": "ipython",
    "version": 3
   },
   "file_extension": ".py",
   "mimetype": "text/x-python",
   "name": "python",
   "nbconvert_exporter": "python",
   "pygments_lexer": "ipython3",
   "version": "3.6.10"
  }
 },
 "nbformat": 4,
 "nbformat_minor": 4
}
